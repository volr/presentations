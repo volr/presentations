{
 "cells": [
  {
   "cell_type": "markdown",
   "metadata": {
    "slideshow": {
     "slide_type": "slide"
    }
   },
   "source": [
    "# Computational modelling for the cognitive sciences\n",
    "\n",
    "    Jens Egholm Pedersen <jegp@itu.dk>\n",
    "    Christian Pehle <christian.pehle@kip.uni-heidelberg.de>"
   ]
  },
  {
   "cell_type": "markdown",
   "metadata": {
    "slideshow": {
     "slide_type": "subslide"
    }
   },
   "source": [
    "## Motivation\n",
    "\n",
    "* Cognitive neuroscience is narrowing their search\n",
    "    * Unit for Cognitive Neuroscience in Copenhagen (UCN) are studying plasticity and rehabilitation  \n",
    "    * Experiment iteration times typically in the order of months (excluding planning etc.)\n",
    "  \n",
    "\n",
    "* Simulations/emulations of neural systems are exhibiting biologically plausible properties\n",
    "    * Nengo, NEST, BrainScales \n",
    "    * Maass' LSNN, learning-to-learn, etc.\n",
    "    * Cognitive researchers cannot operate simulations"
   ]
  },
  {
   "cell_type": "markdown",
   "metadata": {
    "slideshow": {
     "slide_type": "subslide"
    }
   },
   "source": [
    "## Project idea\n",
    "\n",
    "* Goal: Build a platform for the inquiries of the cognitive neuroscientists\n",
    "    * Research objective: Recreate expected behaviour for lesioned systems in simulations\n",
    "  \n",
    "\n",
    "* Background\n",
    "    * Jesper Mogensen at UCN developed modular models that can be examined computationally\n",
    "    * 'Missing link' between complex neural simulations/neuromorphic hardware and non-programmers\n",
    "\n",
    "\n",
    "* Benefits\n",
    "    * Faster iteration times\n",
    "    * Better computational models\n",
    "    * Higher data resolution\n",
    "    * Futher understanding of the relation between computation and cognition"
   ]
  },
  {
   "cell_type": "markdown",
   "metadata": {
    "slideshow": {
     "slide_type": "subslide"
    }
   },
   "source": [
    "## State of the art\n",
    "\n",
    "* NEST, Nengo and PyNN\n",
    "    * Interactive and reasonably simple\n",
    "    * Detailed level of abstraction\n",
    "    * Individual barriers of entry\n",
    " "
   ]
  },
  {
   "cell_type": "markdown",
   "metadata": {
    "slideshow": {
     "slide_type": "subslide"
    }
   },
   "source": [
    "## Our approach\n",
    "\n",
    "* Precedural domain-specific language (DSL) for consistent and concise modelling\n",
    "    * Tailored abstraction level\n",
    "  \n",
    "\n",
    "* Jupyter Notebook or web environment for easy interaction\n",
    "    * Data injection, extraction and visualisation \n",
    "    * Fast feedback and fast interaction\n",
    "\n",
    "\n",
    "* Target-agnostic\n",
    "    * NEST\n",
    "    * BrainScales, Spikey, DLS\n",
    "    * Artificial neural networks\n",
    "        * Currently Futhark\n",
    "        * Potentially Tensorflow, ONNX, (Py)Torch etc.\n",
    "\n",
    "\n",
    "* Core in Haskell\n",
    "    * Exploits algebraic properties such as automatic differentiation\n",
    "    * Learning-to-learn loops"
   ]
  }
 ],
 "metadata": {
  "celltoolbar": "Slideshow",
  "kernelspec": {
   "display_name": "Python 3",
   "language": "python",
   "name": "python3"
  },
  "language_info": {
   "codemirror_mode": {
    "name": "ipython",
    "version": 3
   },
   "file_extension": ".py",
   "mimetype": "text/x-python",
   "name": "python",
   "nbconvert_exporter": "python",
   "pygments_lexer": "ipython3",
   "version": "3.6.3"
  }
 },
 "nbformat": 4,
 "nbformat_minor": 2
}
