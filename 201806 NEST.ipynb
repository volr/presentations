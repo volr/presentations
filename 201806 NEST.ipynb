{
 "cells": [
  {
   "cell_type": "code",
   "execution_count": 2,
   "metadata": {
    "slideshow": {
     "slide_type": "skip"
    }
   },
   "outputs": [
    {
     "name": "stdout",
     "output_type": "stream",
     "text": [
      "The volr extension is already loaded. To reload it, use:\n",
      "  %reload_ext volr\n"
     ]
    }
   ],
   "source": [
    "%load_ext volr\n",
    "import numpy as np\n",
    "import matplotlib.pyplot as plt\n",
    "%matplotlib inline"
   ]
  },
  {
   "cell_type": "markdown",
   "metadata": {
    "slideshow": {
     "slide_type": "slide"
    }
   },
   "source": [
    "# Volr: A declarative interface language for neural computation\n",
    "\n",
    "## Experimental neural systems modelling with Jupyter Notebooks\n",
    "\n",
    "Jens Egholm Pedersen ``<xtp778@alumi.ku.dk>``"
   ]
  },
  {
   "cell_type": "markdown",
   "metadata": {
    "slideshow": {
     "slide_type": "subslide"
    }
   },
   "source": [
    "## Presentation agenda\n",
    "\n",
    "1. State of the art behavioural experiments in cognitive neuroscience\n",
    "2. Volr: A declarative DSL\n",
    "3. Future work"
   ]
  },
  {
   "cell_type": "markdown",
   "metadata": {
    "slideshow": {
     "slide_type": "slide"
    }
   },
   "source": [
    "# Unit for Cognitive Neuroscience\n",
    "\n",
    "* Founded by prof. Jesper Mogensen in 1980\n",
    "\n",
    "* Primary research: \n",
    "  * Plasticity in the normal brain\n",
    "  * Functional analysis of the prefrontal, hippocampal, parietal, and basal ganglia systems\n",
    "  * Traumatic brain injury"
   ]
  },
  {
   "cell_type": "markdown",
   "metadata": {},
   "source": [
    "## Current research\n",
    "\n",
    "* Effects of hippocampal lesions on allocentric navigation\n",
    "* Functional effects of brain injuries\n",
    "* Neural correlates of consciousness (NCC)"
   ]
  },
  {
   "cell_type": "markdown",
   "metadata": {
    "slideshow": {
     "slide_type": "subslide"
    }
   },
   "source": [
    "<br/><br/>\n",
    "\n",
    "## Method of inquiry\n",
    "\n",
    "<img src=\"krechevsky.jpg\" style=\"width: 700px; margin-top: -100px; transform: rotate(-90deg)\"/>"
   ]
  },
  {
   "cell_type": "markdown",
   "metadata": {
    "slideshow": {
     "slide_type": "subslide"
    }
   },
   "source": [
    "## Experimental setup\n",
    "\n",
    "1. Train genetically identical rats\n",
    "2. Introduce lesion\n",
    "3. Re-train rats\n",
    "4. Test hypothesis"
   ]
  },
  {
   "cell_type": "markdown",
   "metadata": {
    "slideshow": {
     "slide_type": "fragment"
    }
   },
   "source": [
    "* Iteration time in the order of months\n",
    "* Experiments are hard to reproduce with a low validity"
   ]
  },
  {
   "cell_type": "markdown",
   "metadata": {
    "slideshow": {
     "slide_type": "fragment"
    }
   },
   "source": [
    "* Why not recreate parts of the experiments in simulations?"
   ]
  },
  {
   "cell_type": "markdown",
   "metadata": {
    "slideshow": {
     "slide_type": "fragment"
    }
   },
   "source": [
    "## Requirements\n",
    "\n",
    "* Target audience: cognitive neuropsychologists\n",
    "  * Background in medicine, psychology and cognitive sciences\n",
    "* Reproducible experiments\n",
    "* System introspection\n",
    "* Fast iteration times\n",
    "* Biological resemblance\n",
    "  * Simulation and emulation"
   ]
  },
  {
   "cell_type": "markdown",
   "metadata": {
    "slideshow": {
     "slide_type": "slide"
    }
   },
   "source": [
    "## Introducing Volr\n",
    "\n",
    "<img style=\"float:right; width: 60%\" src=\"volr_model.png\" />\n",
    "\n",
    "Volr is a declarative domain-specific language for the development, evaluation and analysis of neural systems.\n",
    "\n",
    "* A DSL for building neural systems\n",
    "* User interface (Jupyter notebook)\n",
    "* Experiment target integration\n",
    "  * Input/output protocols"
   ]
  },
  {
   "cell_type": "markdown",
   "metadata": {
    "slideshow": {
     "slide_type": "subslide"
    }
   },
   "source": [
    "## Why not use Python and work with the NEST API?\n",
    "\n",
    "* Easy to make experiments in Python\n",
    "* Build a wrapper around the NEST API with a simple interface\n",
    "* They will use Python for the data pre- and post processing anyway"
   ]
  },
  {
   "cell_type": "markdown",
   "metadata": {
    "slideshow": {
     "slide_type": "fragment"
    }
   },
   "source": [
    "But ...\n",
    "\n",
    "* Python / NEST API does not scale or port\n",
    "  * Artificial neural networks or neuromorphic hardware\n",
    "* Requires complex object-oriented programming:\n",
    "  * Hard to maintain with the evolution of NEST\n",
    "  * Requires proficiency in Python"
   ]
  },
  {
   "cell_type": "markdown",
   "metadata": {
    "slideshow": {
     "slide_type": "subslide"
    }
   },
   "source": [
    "## Volr architecture\n",
    "\n",
    "We chose to build on top of NEST and PyNN:\n",
    "\n",
    "* Internal algebraic representation of networks\n",
    "  * Generated specifications from the targets\n",
    "  * Compile-time verification\n",
    "  * Extendible to multiple execution targets\n",
    "* Haskell base\n",
    "  * Connection-set algebra\n",
    "  * Network composition and calculus\n",
    "* Allows for a simpler 'reasoning'\n",
    "  * Contributions from linguistics (see <a href=\"https://julialang.org/blog/2017/12/ml&pl\">Innes et al</a>)\n",
    "* Singular focus: reproducible experiments"
   ]
  },
  {
   "cell_type": "markdown",
   "metadata": {
    "slideshow": {
     "slide_type": "slide"
    }
   },
   "source": [
    "## Execution targets\n",
    "\n",
    "<img style=\"float:right; width: 60%\" src=\"volr_pipeline.png\" />\n",
    "\n",
    "* Myelin\n",
    "  * Internal spiking-neural network interpreter\n",
    "  * NEST through NEST API\n",
    "  * BrainScaleS through PyNN\n",
    "* Futhark\n",
    "  * Data-parallel functional language developed in Copenhagen\n",
    "  * Accelerated recurrent artificial networks"
   ]
  },
  {
   "cell_type": "markdown",
   "metadata": {
    "slideshow": {
     "slide_type": "subslide"
    }
   },
   "source": [
    "## Project status\n",
    "\n",
    "* Currently three supported backends\n",
    "* Developed in Copenhagen and Heibelberg\n",
    "* "
   ]
  },
  {
   "cell_type": "markdown",
   "metadata": {
    "slideshow": {
     "slide_type": "subslide"
    }
   },
   "source": [
    "## Future work\n",
    "\n",
    "* Expansion: Tensorflow, Heidelberg chip 2, SpiNNaker\n",
    "* Improved integration with Jupyter\n",
    "* "
   ]
  },
  {
   "cell_type": "markdown",
   "metadata": {
    "slideshow": {
     "slide_type": "fragment"
    }
   },
   "source": [
    "* Conclusion\n",
    "  * A working prototype for 2 backends (almost 3) after ~1 week\n",
    "  * Inclusion of non-expert users\n",
    "  * Productivity gains, not just for beginners"
   ]
  },
  {
   "cell_type": "markdown",
   "metadata": {
    "slideshow": {
     "slide_type": "subslide"
    }
   },
   "source": [
    "### Example 1: Graphing a single-population network"
   ]
  },
  {
   "cell_type": "code",
   "execution_count": 3,
   "metadata": {
    "slideshow": {
     "slide_type": "subslide"
    }
   },
   "outputs": [
    {
     "name": "stdout",
     "output_type": "stream",
     "text": [
      "Spikes stored in variable `spikes`\n"
     ]
    },
    {
     "data": {
      "image/png": "[encoded data removed]",
      "text/plain": [
       "<Figure size 1152x360 with 1 Axes>"
      ]
     },
     "metadata": {},
     "output_type": "display_data"
    }
   ],
   "source": [
    "%%volr ssh hel ~/executor.sh \n",
    "\n",
    "stimulus s\n",
    "  input: [20, 21]\n",
    "        \n",
    "function f from s excitatory\n",
    "  neurons: 10\n",
    "    \n",
    "response from f excitatory\n",
    "\n",
    "target nest\n",
    "   runtime: 50"
   ]
  },
  {
   "cell_type": "code",
   "execution_count": 18,
   "metadata": {
    "slideshow": {
     "slide_type": "subslide"
    }
   },
   "outputs": [
    {
     "name": "stdout",
     "output_type": "stream",
     "text": [
      "Spikes stored in variable `spikes`\n"
     ]
    },
    {
     "data": {
      "image/png": "[encoded data removed]",
      "text/plain": [
       "<Figure size 1152x576 with 1 Axes>"
      ]
     },
     "metadata": {},
     "output_type": "display_data"
    }
   ],
   "source": [
    "%%volr ssh hel ~/executor.sh wafer\n",
    "\n",
    "stimulus s\n",
    "  input: [20, 21]\n",
    "        \n",
    "function f from s excitatory\n",
    "  neurons: 10\n",
    "    \n",
    "response from f excitatory\n",
    "\n",
    "target brainscales\n",
    "  wafer: 37\n",
    "  hicann: 297\n",
    "  runtime: 50"
   ]
  },
  {
   "cell_type": "markdown",
   "metadata": {
    "slideshow": {
     "slide_type": "subslide"
    }
   },
   "source": [
    "### Example 2: Python integration"
   ]
  },
  {
   "cell_type": "code",
   "execution_count": 4,
   "metadata": {
    "slideshow": {
     "slide_type": "fragment"
    }
   },
   "outputs": [
    {
     "data": {
      "text/plain": [
       "array([22.39135043, 23.11702577, 23.19889334, 24.68001389, 24.68183817,\n",
       "       25.12134284, 26.12572315, 35.85689358])"
      ]
     },
     "execution_count": 4,
     "metadata": {},
     "output_type": "execute_result"
    }
   ],
   "source": [
    "stim_spikes = np.random.normal(loc=25, scale=6, size=8)\n",
    "stim_spikes.sort()\n",
    "stim_spikes"
   ]
  },
  {
   "cell_type": "code",
   "execution_count": 1,
   "metadata": {},
   "outputs": [],
   "source": [
    "import pandas"
   ]
  },
  {
   "cell_type": "code",
   "execution_count": 2,
   "metadata": {},
   "outputs": [],
   "source": [
    "import numpy as np"
   ]
  },
  {
   "cell_type": "code",
   "execution_count": 6,
   "metadata": {
    "scrolled": true,
    "slideshow": {
     "slide_type": "subslide"
    }
   },
   "outputs": [
    {
     "name": "stdout",
     "output_type": "stream",
     "text": [
      "Spikes stored in variable `spikes`\n"
     ]
    },
    {
     "data": {
      "image/png": "[encoded data removed]",
      "text/plain": [
       "<Figure size 1152x576 with 1 Axes>"
      ]
     },
     "metadata": {},
     "output_type": "display_data"
    }
   ],
   "source": [
    "%%volr ssh hel ~/executor.sh\n",
    "\n",
    "stimulus s\n",
    "  input: $stim_spikes\n",
    "\n",
    "function f1 from s excitatory\n",
    "  weight: 1\n",
    "  neurons: 8\n",
    "    \n",
    "response from f1 excitatory\n",
    "\n",
    "target nest\n",
    "  runtime: 100"
   ]
  },
  {
   "cell_type": "markdown",
   "metadata": {
    "slideshow": {
     "slide_type": "subslide"
    }
   },
   "source": [
    "## Example 3: Excitatory and inhibitory"
   ]
  },
  {
   "cell_type": "code",
   "execution_count": 9,
   "metadata": {
    "slideshow": {
     "slide_type": "subslide"
    }
   },
   "outputs": [
    {
     "name": "stdout",
     "output_type": "stream",
     "text": [
      "Spikes stored in variable `spikes`\n"
     ]
    },
    {
     "data": {
      "image/png": "[encoded data removed]",
      "text/plain": [
       "<Figure size 1152x360 with 3 Axes>"
      ]
     },
     "metadata": {},
     "output_type": "display_data"
    }
   ],
   "source": [
    "%%volr ssh hel ~/executor.sh\n",
    "\n",
    "stimulus s\n",
    "  input: $stim_spikes\n",
    "\n",
    "function f1 from s excitatory\n",
    "  neurons: 8\n",
    "  \n",
    "function inhibitor \n",
    "  from f1 excitatory\n",
    "    weight: 0.5\n",
    "  neurons: 8\n",
    "  \n",
    "function f2 \n",
    "  from f1 excitatory\n",
    "  from inhibitor inhibitory\n",
    "  neurons: 8\n",
    "\n",
    "response from f2 excitatory\n",
    "\n",
    "target nest\n",
    "  runtime: 100"
   ]
  },
  {
   "cell_type": "markdown",
   "metadata": {
    "slideshow": {
     "slide_type": "slide"
    }
   },
   "source": [
    "## Future work and collaboration\n",
    "\n",
    "* Add learning rules\n",
    "* Futher integration (DLS, Spikey)\n",
    "  * Detailed experiments and higher-level concepts\n",
    "* Future experiments\n",
    " * Learning to learn: REF (Mogensen), LSNN (Bellec and Maas), etc.\n",
    " * DLS plasticity\n",
    "* Reproducible regression testing"
   ]
  },
  {
   "cell_type": "markdown",
   "metadata": {
    "slideshow": {
     "slide_type": "slide"
    }
   },
   "source": [
    "## Summary\n",
    "\n",
    "* REF model\n",
    "* Volr as a DSL for fast and reproducible neuromorphic experiments\n",
    "* Works needs to be done, but results are promising\n"
   ]
  },
  {
   "cell_type": "markdown",
   "metadata": {
    "slideshow": {
     "slide_type": "fragment"
    }
   },
   "source": [
    "Thank you to Mr. Schmitt and Mr. Pehle for the invitation\n",
    "\n",
    "* Jens Egholm Pedersen: ``jensegholm@protonmail.com``"
   ]
  }
 ],
 "metadata": {
  "celltoolbar": "Slideshow",
  "kernelspec": {
   "display_name": "Python 3",
   "language": "python",
   "name": "python3"
  },
  "language_info": {
   "codemirror_mode": {
    "name": "ipython",
    "version": 3
   },
   "file_extension": ".py",
   "mimetype": "text/x-python",
   "name": "python",
   "nbconvert_exporter": "python",
   "pygments_lexer": "ipython3",
   "version": "3.6.3"
  }
 },
 "nbformat": 4,
 "nbformat_minor": 2
}
