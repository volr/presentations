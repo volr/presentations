{
 "cells": [
  {
   "cell_type": "code",
   "execution_count": 4,
   "metadata": {
    "slideshow": {
     "slide_type": "skip"
    }
   },
   "outputs": [
    {
     "name": "stdout",
     "output_type": "stream",
     "text": [
      "The volr extension is already loaded. To reload it, use:\n",
      "  %reload_ext volr\n"
     ]
    }
   ],
   "source": [
    "%load_ext volr\n",
    "import numpy as np\n",
    "import matplotlib.pyplot as plt\n",
    "%matplotlib inline"
   ]
  },
  {
   "cell_type": "markdown",
   "metadata": {
    "slideshow": {
     "slide_type": "slide"
    }
   },
   "source": [
    "# Volr: A declarative interface language for neural computation\n",
    "\n",
    "## Experimental neural systems modelling with Jupyter Notebooks\n",
    "\n",
    "Jens Egholm Pedersen ``<xtp778@alumi.ku.dk>``\n",
    "Christian Pehle ``<christian.pehle@kip.uni-heidelberg.de>``"
   ]
  },
  {
   "cell_type": "markdown",
   "metadata": {
    "slideshow": {
     "slide_type": "subslide"
    }
   },
   "source": [
    "## Presentation agenda\n",
    "\n",
    "1. State of the art behavioural experiments in cognitive neuroscience\n",
    "2. Volr: A declarative DSL\n",
    "3. Future work"
   ]
  },
  {
   "cell_type": "markdown",
   "metadata": {
    "slideshow": {
     "slide_type": "fragment"
    }
   },
   "source": [
    "Disclaimer:\n",
    "* Volr is highly experimental and very susceptible to your input"
   ]
  },
  {
   "cell_type": "markdown",
   "metadata": {
    "slideshow": {
     "slide_type": "slide"
    }
   },
   "source": [
    "# Unit for Cognitive Neuroscience\n",
    "\n",
    "* Founded by prof. Jesper Mogensen in 1980\n",
    "\n",
    "* Primary research: Plasticity, functional analysis, traumatic brain injury\n",
    "\n",
    "## Current research\n",
    "\n",
    "* Effects of hippocampal lesions on allocentric navigation\n",
    "* Functional effects of brain injuries\n",
    "* Neural correlates of consciousness (NCC)"
   ]
  },
  {
   "cell_type": "markdown",
   "metadata": {
    "slideshow": {
     "slide_type": "subslide"
    }
   },
   "source": [
    "## Method of inquiry\n",
    "\n",
    "<img src=\"krechevsky.jpg\" style=\"width: 42%; float:right; margin-top: -200px; transform: rotate(-90deg)\"/>\n",
    "\n",
    "1. Train genetically identical rats\n",
    "2. Introduce lesion\n",
    "3. Re-train rats\n",
    "4. Test hypothesis"
   ]
  },
  {
   "cell_type": "markdown",
   "metadata": {
    "slideshow": {
     "slide_type": "subslide"
    }
   },
   "source": [
    "## Method of inquiry\n",
    "\n",
    "* Iteration time in the order of months\n",
    "* Experiments are hard to reproduce with a low validity\n",
    "\n",
    "\n",
    "* Why not recreate parts of the experiments in simulations?"
   ]
  },
  {
   "cell_type": "markdown",
   "metadata": {
    "slideshow": {
     "slide_type": "subslide"
    }
   },
   "source": [
    "## Requirements\n",
    "\n",
    "* Target audience: cognitive neuropsychologists\n",
    "  * Background in medicine, psychology and cognitive sciences\n",
    "* Reproducible experiments\n",
    "* System introspection\n",
    "* Fast iteration times\n",
    "* Biological resemblance\n",
    "  * Simulation and emulation"
   ]
  },
  {
   "cell_type": "markdown",
   "metadata": {
    "slideshow": {
     "slide_type": "slide"
    }
   },
   "source": [
    "## Introducing Volr\n",
    "\n",
    "<img style=\"float:right; width: 60%\" src=\"volr_model.png\" />\n",
    "\n",
    "Volr is a declarative domain-specific language for the development, evaluation and analysis of neural systems.\n",
    "\n",
    "* A DSL for building neural systems\n",
    "* User interface (Jupyter notebook)\n",
    "* Experiment target integration\n",
    "  * Input/output protocols"
   ]
  },
  {
   "cell_type": "markdown",
   "metadata": {
    "slideshow": {
     "slide_type": "subslide"
    }
   },
   "source": [
    "## Why not use Python and work with the NEST API?\n",
    "\n",
    "* Easy to make experiments in Python\n",
    "* Build a wrapper around the NEST API with a simple interface\n",
    "* They will use Python for the data pre- and post processing anyway"
   ]
  },
  {
   "cell_type": "markdown",
   "metadata": {
    "slideshow": {
     "slide_type": "fragment"
    }
   },
   "source": [
    "But ...\n",
    "* Python/NEST does not port\n",
    "  * Artificial neural networks or neuromorphic hardware\n",
    "* Requires complex object-oriented programming:\n",
    "  * Hard to maintain with the evolution of NEST\n",
    "  * Requires proficiency in Python"
   ]
  },
  {
   "cell_type": "markdown",
   "metadata": {
    "slideshow": {
     "slide_type": "slide"
    }
   },
   "source": [
    "## Execution targets\n",
    "\n",
    "<img style=\"float:right; width: 40%\" src=\"volr_pipeline.png\" />\n",
    "\n",
    "<div style=\"width: 55%; float:left\">\n",
    "<ul>\n",
    "    <li>Myelin</br>\n",
    "  <ul><li>Internal spiking-neural network interpreter</li>\n",
    "  <li>NEST through NEST API</li>\n",
    "  <li>BrainScaleS through PyNN</li>\n",
    "  </ul>\n",
    "  </li>\n",
    "  <li>Futhark</br>\n",
    "  <ul><li>Data-parallel functional language developed in Copenhagen</li>\n",
    "  <li>Accelerated recurrent artificial networks</li>\n",
    "  </ul>\n",
    "</ul>\n",
    "</div>"
   ]
  },
  {
   "cell_type": "markdown",
   "metadata": {
    "slideshow": {
     "slide_type": "slide"
    }
   },
   "source": [
    "## Volr architecture\n",
    "\n",
    "<img style=\"float:right; width: 30%\" src=\"volr_detailed.png\" />\n",
    "\n",
    "We chose to build on top of NEST and PyNN:\n",
    "\n",
    "* Internal algebraic representation of networks\n",
    "  * Generated specifications from the targets\n",
    "  * Compile-time verification\n",
    "  * Extensible to multiple execution targets"
   ]
  },
  {
   "cell_type": "markdown",
   "metadata": {
    "slideshow": {
     "slide_type": "subslide"
    }
   },
   "source": [
    "## Volr architecture\n",
    "\n",
    "<img style=\"float:right; width: 30%\" src=\"volr_detailed.png\" />\n",
    "\n",
    "We chose to build on top of NEST and PyNN:\n",
    "\n",
    "* Haskell base\n",
    "  * Connection-set algebra\n",
    "  * Network composition and calculus"
   ]
  },
  {
   "cell_type": "markdown",
   "metadata": {
    "slideshow": {
     "slide_type": "subslide"
    }
   },
   "source": [
    "## Volr architecture\n",
    "\n",
    "<img style=\"float:right; width: 30%\" src=\"volr_detailed.png\" />\n",
    "\n",
    "We chose to build on top of NEST and PyNN:\n",
    "\n",
    "* Allows for a simpler 'reasoning'\n",
    "  * Contributions from linguistics (see <a href=\"https://julialang.org/blog/2017/12/ml&pl\">Innes et al</a>)\n",
    "* Singular focus: reproducible experiments"
   ]
  },
  {
   "cell_type": "markdown",
   "metadata": {
    "slideshow": {
     "slide_type": "subslide"
    }
   },
   "source": [
    "## NEST integration\n",
    "\n",
    "* Highly experimental\n",
    "* Rudimentary support for complete experiments\n",
    "\n",
    "\n",
    "* Full support for neuron models\n",
    "* Regression and integration testing"
   ]
  },
  {
   "cell_type": "markdown",
   "metadata": {
    "slideshow": {
     "slide_type": "subslide"
    }
   },
   "source": [
    "## Language syntax\n",
    "\n",
    "<div style=\"float:right; width: 30%; margin-right: 200px\">\n",
    "<pre>\n",
    "<b style=\"color:#901A1E\">stimulus</b> s\n",
    "  input: \"data.json\"\n",
    "  \n",
    "<b style=\"color:#901A1E\">population</b> p\n",
    "  from p: one to one\n",
    "\n",
    "<b style=\"color:#901A1E\">response</b>\n",
    "  from p: all to one\n",
    "\n",
    "<b style=\"color:#901A1E\">target</b> NEST\n",
    "  model: izhikevich\n",
    " \n",
    "<b style=\"color:#901A1E\">target</b> BrainScaleS\n",
    "  model: if_cond_exp\n",
    "</pre>\n",
    "</div>\n",
    "\n",
    "<div style=\"width:50%; margin-top:50px;\">\n",
    "</br></br>\n",
    "<ul>\n",
    "<li>High-level abstractions</li>\n",
    "<li>Short syntax</li>\n",
    "<li>Connection-set algebra for concise connectivity descriptions</li>\n",
    "</ul>\n",
    "</div>"
   ]
  },
  {
   "cell_type": "markdown",
   "metadata": {
    "slideshow": {
     "slide_type": "slide"
    }
   },
   "source": [
    "# 3 small examples"
   ]
  },
  {
   "cell_type": "markdown",
   "metadata": {
    "slideshow": {
     "slide_type": "subslide"
    }
   },
   "source": [
    "### Example 1: Graphing a single-population network"
   ]
  },
  {
   "cell_type": "code",
   "execution_count": 3,
   "metadata": {
    "slideshow": {
     "slide_type": "subslide"
    }
   },
   "outputs": [
    {
     "name": "stdout",
     "output_type": "stream",
     "text": [
      "Results stored in variable `results`\n"
     ]
    },
    {
     "data": {
      "image/png": "[encoded data removed]",
      "text/plain": [
       "<Figure size 1152x360 with 1 Axes>"
      ]
     },
     "metadata": {},
     "output_type": "display_data"
    }
   ],
   "source": [
    "%%volr\n",
    "\n",
    "stimulus s\n",
    "  input: [20, 21]\n",
    "        \n",
    "population p \n",
    "  from s: all to all\n",
    "  neurons: 10\n",
    "    \n",
    "response\n",
    "  from f\n",
    "\n",
    "target nest\n",
    "   runtime: 50"
   ]
  },
  {
   "cell_type": "code",
   "execution_count": 18,
   "metadata": {
    "slideshow": {
     "slide_type": "subslide"
    }
   },
   "outputs": [
    {
     "name": "stdout",
     "output_type": "stream",
     "text": [
      "Results stored in variable `results`\n"
     ]
    },
    {
     "data": {
      "image/png": "[encoded data removed]",
      "text/plain": [
       "<Figure size 1152x576 with 1 Axes>"
      ]
     },
     "metadata": {},
     "output_type": "display_data"
    }
   ],
   "source": [
    "%%volr ssh hel ~/executor.sh wafer\n",
    "\n",
    "stimulus s\n",
    "  input: [20, 21]\n",
    "        \n",
    "population p\n",
    "  from s: all to all\n",
    "  neurons: 10\n",
    "    \n",
    "response \n",
    "  from p\n",
    "\n",
    "target brainscales\n",
    "  wafer: 37\n",
    "  hicann: 297\n",
    "  runtime: 50"
   ]
  },
  {
   "cell_type": "markdown",
   "metadata": {
    "slideshow": {
     "slide_type": "subslide"
    }
   },
   "source": [
    "### Example 2: Python integration"
   ]
  },
  {
   "cell_type": "code",
   "execution_count": 4,
   "metadata": {
    "slideshow": {
     "slide_type": "fragment"
    }
   },
   "outputs": [
    {
     "data": {
      "text/plain": [
       "array([22.39135043, 23.11702577, 23.19889334, 24.68001389, 24.68183817,\n",
       "       25.12134284, 26.12572315, 35.85689358])"
      ]
     },
     "execution_count": 4,
     "metadata": {},
     "output_type": "execute_result"
    }
   ],
   "source": [
    "stim_spikes = np.random.normal(loc=25, scale=6, size=8)\n",
    "stim_spikes.sort()\n",
    "stim_spikes"
   ]
  },
  {
   "cell_type": "code",
   "execution_count": 6,
   "metadata": {
    "scrolled": true,
    "slideshow": {
     "slide_type": "subslide"
    }
   },
   "outputs": [
    {
     "name": "stdout",
     "output_type": "stream",
     "text": [
      "Results stored in variable `results`\n"
     ]
    },
    {
     "data": {
      "image/png": "[encoded data removed]",
      "text/plain": [
       "<Figure size 1152x576 with 1 Axes>"
      ]
     },
     "metadata": {},
     "output_type": "display_data"
    }
   ],
   "source": [
    "%%volr\n",
    "\n",
    "stimulus s\n",
    "  input: $stim_spikes\n",
    "\n",
    "population p \n",
    "  from s: all to all\n",
    "    weight: 1\n",
    "  neurons: 8\n",
    "    \n",
    "response \n",
    "  from f1 \n",
    "\n",
    "target nest\n",
    "  runtime: 100"
   ]
  },
  {
   "cell_type": "code",
   "execution_count": 9,
   "metadata": {
    "slideshow": {
     "slide_type": "subslide"
    }
   },
   "outputs": [
    {
     "name": "stdout",
     "output_type": "stream",
     "text": [
      "Results stored in variable `results`\n"
     ]
    },
    {
     "data": {
      "image/png": "[encoded data removed]",
      "text/plain": [
       "<Figure size 1152x360 with 3 Axes>"
      ]
     },
     "metadata": {},
     "output_type": "display_data"
    }
   ],
   "source": [
    "%%volr ssh hel ~/executor.sh\n",
    "\n",
    "stimulus s\n",
    "  input: $stim_spikes\n",
    "\n",
    "population p1\n",
    "  from s\n",
    "  neurons: 8\n",
    "  \n",
    "population inhibitor \n",
    "  from f1: all to all\n",
    "    weight: 0.5\n",
    "  neurons: 8\n",
    "  \n",
    "population p2 \n",
    "  from p1\n",
    "    weight: 1\n",
    "  from inhibitor \n",
    "    weight: -1\n",
    "  neurons: 8\n",
    "\n",
    "response from p2\n",
    "\n",
    "target nest\n",
    "  runtime: 100"
   ]
  },
  {
   "cell_type": "code",
   "execution_count": 6,
   "metadata": {
    "slideshow": {
     "slide_type": "skip"
    }
   },
   "outputs": [
    {
     "name": "stdout",
     "output_type": "stream",
     "text": [
      "command\n",
      "ssh hel ~/executor.sh wafer\n",
      "Error sending code to backend\n"
     ]
    },
    {
     "ename": "ExecutionException",
     "evalue": "b''\nb'srun: error: Unable to allocate resources: Invalid account or account/partition combination specified\\n'",
     "output_type": "error",
     "traceback": [
      "\u001b[0;31m---------------------------------------------------------------------------\u001b[0m",
      "\u001b[0;31mExecutionException\u001b[0m                        Traceback (most recent call last)",
      "\u001b[0;32m<ipython-input-6-d7285fadc9a8>\u001b[0m in \u001b[0;36m<module>\u001b[0;34m()\u001b[0m\n\u001b[0;32m----> 1\u001b[0;31m \u001b[0mget_ipython\u001b[0m\u001b[0;34m(\u001b[0m\u001b[0;34m)\u001b[0m\u001b[0;34m.\u001b[0m\u001b[0mrun_cell_magic\u001b[0m\u001b[0;34m(\u001b[0m\u001b[0;34m'volr'\u001b[0m\u001b[0;34m,\u001b[0m \u001b[0;34m'ssh hel ~/executor.sh wafer'\u001b[0m\u001b[0;34m,\u001b[0m \u001b[0;34m'\\nstimulus s\\n  array: [20, 21]\\n\\npopulation p\\n  from s\\n    weight: 1\\n  neurons: 10\\n\\nresponse\\n  from p\\n\\ntarget brainscales\\n  wafer: 37\\n  hicann: 297\\n  runtime: 50'\u001b[0m\u001b[0;34m)\u001b[0m\u001b[0;34m\u001b[0m\u001b[0m\n\u001b[0m",
      "\u001b[0;32m~/.virtualenvs/slides/lib/python3.6/site-packages/IPython/core/interactiveshell.py\u001b[0m in \u001b[0;36mrun_cell_magic\u001b[0;34m(self, magic_name, line, cell)\u001b[0m\n\u001b[1;32m   2129\u001b[0m             \u001b[0mmagic_arg_s\u001b[0m \u001b[0;34m=\u001b[0m \u001b[0mself\u001b[0m\u001b[0;34m.\u001b[0m\u001b[0mvar_expand\u001b[0m\u001b[0;34m(\u001b[0m\u001b[0mline\u001b[0m\u001b[0;34m,\u001b[0m \u001b[0mstack_depth\u001b[0m\u001b[0;34m)\u001b[0m\u001b[0;34m\u001b[0m\u001b[0m\n\u001b[1;32m   2130\u001b[0m             \u001b[0;32mwith\u001b[0m \u001b[0mself\u001b[0m\u001b[0;34m.\u001b[0m\u001b[0mbuiltin_trap\u001b[0m\u001b[0;34m:\u001b[0m\u001b[0;34m\u001b[0m\u001b[0m\n\u001b[0;32m-> 2131\u001b[0;31m                 \u001b[0mresult\u001b[0m \u001b[0;34m=\u001b[0m \u001b[0mfn\u001b[0m\u001b[0;34m(\u001b[0m\u001b[0mmagic_arg_s\u001b[0m\u001b[0;34m,\u001b[0m \u001b[0mcell\u001b[0m\u001b[0;34m)\u001b[0m\u001b[0;34m\u001b[0m\u001b[0m\n\u001b[0m\u001b[1;32m   2132\u001b[0m             \u001b[0;32mreturn\u001b[0m \u001b[0mresult\u001b[0m\u001b[0;34m\u001b[0m\u001b[0m\n\u001b[1;32m   2133\u001b[0m \u001b[0;34m\u001b[0m\u001b[0m\n",
      "\u001b[0;32m<decorator-gen-125>\u001b[0m in \u001b[0;36mexecute\u001b[0;34m(self, line, cell)\u001b[0m\n",
      "\u001b[0;32m~/.virtualenvs/slides/lib/python3.6/site-packages/IPython/core/magic.py\u001b[0m in \u001b[0;36m<lambda>\u001b[0;34m(f, *a, **k)\u001b[0m\n\u001b[1;32m    185\u001b[0m     \u001b[0;31m# but it's overkill for just that one bit of state.\u001b[0m\u001b[0;34m\u001b[0m\u001b[0;34m\u001b[0m\u001b[0m\n\u001b[1;32m    186\u001b[0m     \u001b[0;32mdef\u001b[0m \u001b[0mmagic_deco\u001b[0m\u001b[0;34m(\u001b[0m\u001b[0marg\u001b[0m\u001b[0;34m)\u001b[0m\u001b[0;34m:\u001b[0m\u001b[0;34m\u001b[0m\u001b[0m\n\u001b[0;32m--> 187\u001b[0;31m         \u001b[0mcall\u001b[0m \u001b[0;34m=\u001b[0m \u001b[0;32mlambda\u001b[0m \u001b[0mf\u001b[0m\u001b[0;34m,\u001b[0m \u001b[0;34m*\u001b[0m\u001b[0ma\u001b[0m\u001b[0;34m,\u001b[0m \u001b[0;34m**\u001b[0m\u001b[0mk\u001b[0m\u001b[0;34m:\u001b[0m \u001b[0mf\u001b[0m\u001b[0;34m(\u001b[0m\u001b[0;34m*\u001b[0m\u001b[0ma\u001b[0m\u001b[0;34m,\u001b[0m \u001b[0;34m**\u001b[0m\u001b[0mk\u001b[0m\u001b[0;34m)\u001b[0m\u001b[0;34m\u001b[0m\u001b[0m\n\u001b[0m\u001b[1;32m    188\u001b[0m \u001b[0;34m\u001b[0m\u001b[0m\n\u001b[1;32m    189\u001b[0m         \u001b[0;32mif\u001b[0m \u001b[0mcallable\u001b[0m\u001b[0;34m(\u001b[0m\u001b[0marg\u001b[0m\u001b[0;34m)\u001b[0m\u001b[0;34m:\u001b[0m\u001b[0;34m\u001b[0m\u001b[0m\n",
      "\u001b[0;32m~/workspace/volr/ipython-volr/src/volr/magic.py\u001b[0m in \u001b[0;36mexecute\u001b[0;34m(self, line, cell)\u001b[0m\n\u001b[1;32m     35\u001b[0m         \u001b[0;32mexcept\u001b[0m \u001b[0mException\u001b[0m \u001b[0;32mas\u001b[0m \u001b[0me\u001b[0m\u001b[0;34m:\u001b[0m\u001b[0;34m\u001b[0m\u001b[0m\n\u001b[1;32m     36\u001b[0m             \u001b[0mprint\u001b[0m\u001b[0;34m(\u001b[0m\u001b[0;34m\"Error sending code to backend\"\u001b[0m\u001b[0;34m)\u001b[0m\u001b[0;34m\u001b[0m\u001b[0m\n\u001b[0;32m---> 37\u001b[0;31m             \u001b[0;32mraise\u001b[0m \u001b[0me\u001b[0m\u001b[0;34m\u001b[0m\u001b[0m\n\u001b[0m\u001b[1;32m     38\u001b[0m \u001b[0;34m\u001b[0m\u001b[0m\n\u001b[1;32m     39\u001b[0m         \u001b[0mprint\u001b[0m\u001b[0;34m(\u001b[0m\u001b[0;34m\"Results stored in variable `{}`\"\u001b[0m\u001b[0;34m.\u001b[0m\u001b[0mformat\u001b[0m\u001b[0;34m(\u001b[0m\u001b[0mvariable\u001b[0m\u001b[0;34m)\u001b[0m\u001b[0;34m)\u001b[0m\u001b[0;34m\u001b[0m\u001b[0m\n",
      "\u001b[0;32m~/workspace/volr/ipython-volr/src/volr/magic.py\u001b[0m in \u001b[0;36mexecute\u001b[0;34m(self, line, cell)\u001b[0m\n\u001b[1;32m     31\u001b[0m \u001b[0;34m\u001b[0m\u001b[0m\n\u001b[1;32m     32\u001b[0m         \u001b[0;32mtry\u001b[0m\u001b[0;34m:\u001b[0m\u001b[0;34m\u001b[0m\u001b[0m\n\u001b[0;32m---> 33\u001b[0;31m             \u001b[0mspikes\u001b[0m\u001b[0;34m,\u001b[0m \u001b[0mmyelin_json\u001b[0m \u001b[0;34m=\u001b[0m \u001b[0mself\u001b[0m\u001b[0;34m.\u001b[0m\u001b[0mprocess_volr\u001b[0m\u001b[0;34m(\u001b[0m\u001b[0mscript\u001b[0m\u001b[0;34m,\u001b[0m \u001b[0mcommand\u001b[0m\u001b[0;34m)\u001b[0m\u001b[0;34m\u001b[0m\u001b[0m\n\u001b[0m\u001b[1;32m     34\u001b[0m             \u001b[0mself\u001b[0m\u001b[0;34m.\u001b[0m\u001b[0mshell\u001b[0m\u001b[0;34m.\u001b[0m\u001b[0muser_ns\u001b[0m\u001b[0;34m.\u001b[0m\u001b[0mupdate\u001b[0m\u001b[0;34m(\u001b[0m\u001b[0;34m{\u001b[0m\u001b[0mvariable\u001b[0m\u001b[0;34m:\u001b[0m \u001b[0mspikes\u001b[0m\u001b[0;34m}\u001b[0m\u001b[0;34m)\u001b[0m\u001b[0;34m\u001b[0m\u001b[0m\n\u001b[1;32m     35\u001b[0m         \u001b[0;32mexcept\u001b[0m \u001b[0mException\u001b[0m \u001b[0;32mas\u001b[0m \u001b[0me\u001b[0m\u001b[0;34m:\u001b[0m\u001b[0;34m\u001b[0m\u001b[0m\n",
      "\u001b[0;32m~/workspace/volr/ipython-volr/src/volr/magic.py\u001b[0m in \u001b[0;36mprocess_volr\u001b[0;34m(self, volr, command)\u001b[0m\n\u001b[1;32m     96\u001b[0m     \u001b[0;32mdef\u001b[0m \u001b[0mprocess_volr\u001b[0m\u001b[0;34m(\u001b[0m\u001b[0mself\u001b[0m\u001b[0;34m,\u001b[0m \u001b[0mvolr\u001b[0m\u001b[0;34m,\u001b[0m \u001b[0mcommand\u001b[0m\u001b[0;34m)\u001b[0m\u001b[0;34m:\u001b[0m\u001b[0;34m\u001b[0m\u001b[0m\n\u001b[1;32m     97\u001b[0m         \u001b[0mmyelin_json\u001b[0m \u001b[0;34m=\u001b[0m \u001b[0mself\u001b[0m\u001b[0;34m.\u001b[0m\u001b[0mparse_volr\u001b[0m\u001b[0;34m(\u001b[0m\u001b[0mvolr\u001b[0m\u001b[0;34m)\u001b[0m\u001b[0;34m\u001b[0m\u001b[0m\n\u001b[0;32m---> 98\u001b[0;31m         \u001b[0mresult\u001b[0m \u001b[0;34m=\u001b[0m \u001b[0mself\u001b[0m\u001b[0;34m.\u001b[0m\u001b[0msend_to_backend\u001b[0m\u001b[0;34m(\u001b[0m\u001b[0mmyelin_json\u001b[0m\u001b[0;34m,\u001b[0m \u001b[0mcommand\u001b[0m\u001b[0;34m)\u001b[0m\u001b[0;34m\u001b[0m\u001b[0m\n\u001b[0m\u001b[1;32m     99\u001b[0m \u001b[0;34m\u001b[0m\u001b[0m\n\u001b[1;32m    100\u001b[0m         \u001b[0;32mtry\u001b[0m\u001b[0;34m:\u001b[0m\u001b[0;34m\u001b[0m\u001b[0m\n",
      "\u001b[0;32m~/workspace/volr/ipython-volr/src/volr/magic.py\u001b[0m in \u001b[0;36msend_to_backend\u001b[0;34m(self, myelin_json, command)\u001b[0m\n\u001b[1;32m     54\u001b[0m         \u001b[0;31m# Ignore errors, unless they contain some form of 'error'\u001b[0m\u001b[0;34m\u001b[0m\u001b[0;34m\u001b[0m\u001b[0m\n\u001b[1;32m     55\u001b[0m         \u001b[0;32mif\u001b[0m \u001b[0mre\u001b[0m\u001b[0;34m.\u001b[0m\u001b[0msearch\u001b[0m\u001b[0;34m(\u001b[0m\u001b[0;34m'error'\u001b[0m\u001b[0;34m,\u001b[0m \u001b[0merrors\u001b[0m\u001b[0;34m.\u001b[0m\u001b[0mdecode\u001b[0m\u001b[0;34m(\u001b[0m\u001b[0;34m)\u001b[0m\u001b[0;34m,\u001b[0m \u001b[0mre\u001b[0m\u001b[0;34m.\u001b[0m\u001b[0mIGNORECASE\u001b[0m\u001b[0;34m)\u001b[0m\u001b[0;34m:\u001b[0m\u001b[0;34m\u001b[0m\u001b[0m\n\u001b[0;32m---> 56\u001b[0;31m             \u001b[0;32mraise\u001b[0m \u001b[0mExecutionException\u001b[0m\u001b[0;34m(\u001b[0m\u001b[0mstr\u001b[0m\u001b[0;34m(\u001b[0m\u001b[0mresult\u001b[0m\u001b[0;34m)\u001b[0m \u001b[0;34m+\u001b[0m \u001b[0;34m\"\\n\"\u001b[0m \u001b[0;34m+\u001b[0m \u001b[0mstr\u001b[0m\u001b[0;34m(\u001b[0m\u001b[0merrors\u001b[0m\u001b[0;34m)\u001b[0m\u001b[0;34m)\u001b[0m\u001b[0;34m\u001b[0m\u001b[0m\n\u001b[0m\u001b[1;32m     57\u001b[0m \u001b[0;34m\u001b[0m\u001b[0m\n\u001b[1;32m     58\u001b[0m         \u001b[0;32mreturn\u001b[0m \u001b[0mresult\u001b[0m\u001b[0;34m\u001b[0m\u001b[0m\n",
      "\u001b[0;31mExecutionException\u001b[0m: b''\nb'srun: error: Unable to allocate resources: Invalid account or account/partition combination specified\\n'"
     ]
    }
   ],
   "source": [
    "%%volr ssh hel ~/executor.sh wafer\n",
    "\n",
    "stimulus s\n",
    "  array: [20, 21]\n",
    "\n",
    "population p\n",
    "  from s\n",
    "    weight: 1\n",
    "  neurons: 10\n",
    "\n",
    "response\n",
    "  from p\n",
    "\n",
    "target brainscales\n",
    "  wafer: 37\n",
    "  hicann: 297\n",
    "  runtime: 50"
   ]
  },
  {
   "cell_type": "markdown",
   "metadata": {
    "slideshow": {
     "slide_type": "slide"
    }
   },
   "source": [
    "## Conclusion\n",
    "\n",
    "* Focus: non-programmers can create and run experiments\n",
    "  * Increased adoption and use of NEST\n",
    "* Shareable and extendable experiments\n",
    "  * Faster and simpler to reason about\n",
    "* Building on previous work\n"
   ]
  },
  {
   "cell_type": "markdown",
   "metadata": {
    "slideshow": {
     "slide_type": "subslide"
    }
   },
   "source": [
    "## Future work\n",
    "\n",
    "* Expansion: Tensorflow, Heidelberg chip 2, SpiNNaker\n",
    "* Improved integration with Jupyter\n",
    "  * Introspect currents and spikes\n",
    "  * Autogenerated plots etc.\n",
    "* Improved support for detailed parameters\n",
    "  * Ongoing work \n",
    "\n",
    "\n",
    "* Learning-to-learn experiments\n",
    "* Automatic differentiation and network 'algebra'\n",
    "* Behavioural and cognitive experiments"
   ]
  },
  {
   "cell_type": "markdown",
   "metadata": {
    "slideshow": {
     "slide_type": "slide"
    }
   },
   "source": [
    "## Summary\n",
    "\n",
    "<div style=\"float:right; width:50%\">\n",
    "</br></br></br>\n",
    "Thank you for your time\n",
    "<ul>\n",
    "    <li>Jens Egholm Pedersen: <code>xtp778@alumni.ku.dk</code></li>\n",
    "    <li>Christian Pehle <code>christian.pehle@kip.uni-heidelberg.de</code></li>\n",
    "</ul>\n",
    "</div>\n",
    "\n",
    "* Targeting non-programmers\n",
    "* Reproducible experiments\n",
    "* System/experiment introspection\n",
    "* Fast iteration times\n",
    "\n",
    "\n",
    "* Working hard on learning"
   ]
  }
 ],
 "metadata": {
  "celltoolbar": "Slideshow",
  "kernelspec": {
   "display_name": "Python 3",
   "language": "python",
   "name": "python3"
  },
  "language_info": {
   "codemirror_mode": {
    "name": "ipython",
    "version": 3
   },
   "file_extension": ".py",
   "mimetype": "text/x-python",
   "name": "python",
   "nbconvert_exporter": "python",
   "pygments_lexer": "ipython3",
   "version": "3.6.3"
  }
 },
 "nbformat": 4,
 "nbformat_minor": 2
}
