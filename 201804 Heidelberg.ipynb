{
 "cells": [
  {
   "cell_type": "code",
   "execution_count": 2,
   "metadata": {
    "slideshow": {
     "slide_type": "skip"
    }
   },
   "outputs": [
    {
     "name": "stdout",
     "output_type": "stream",
     "text": [
      "The volr extension is already loaded. To reload it, use:\n",
      "  %reload_ext volr\n"
     ]
    }
   ],
   "source": [
    "%load_ext volr\n",
    "import numpy as np\n",
    "import matplotlib.pyplot as plt\n",
    "%matplotlib inline"
   ]
  },
  {
   "cell_type": "markdown",
   "metadata": {
    "slideshow": {
     "slide_type": "slide"
    }
   },
   "source": [
    "# Modelling learning tasks with SNN\n",
    "\n",
    "Jens Egholm Pedersen ``<xtp778@alumi.ku.dk>``"
   ]
  },
  {
   "cell_type": "markdown",
   "metadata": {
    "slideshow": {
     "slide_type": "subslide"
    }
   },
   "source": [
    "## Background\n",
    "\n",
    "* BSc. Political science, Aarhus University\n",
    "* BSc. Software engineering, IT-University of Copenhagen\n",
    "* MSc. IT & Cognition, Copenhagen University\n",
    "\n",
    "\n",
    "* Software engineer at CERN\n",
    "* Assistant professor at Copenhagen Business Academy"
   ]
  },
  {
   "cell_type": "markdown",
   "metadata": {
    "slideshow": {
     "slide_type": "subslide"
    }
   },
   "source": [
    "## Structure\n",
    "\n",
    "1. Introduction to UCN, Copenhagen\n",
    "2. Connection to neuromorphic hardware\n",
    "3. Future prospects"
   ]
  },
  {
   "cell_type": "markdown",
   "metadata": {
    "slideshow": {
     "slide_type": "slide"
    }
   },
   "source": [
    "# Unit for Cognitive Neuroscience\n",
    "\n",
    "* Founded by prof. Jesper Mogensen in 1980"
   ]
  },
  {
   "cell_type": "markdown",
   "metadata": {
    "slideshow": {
     "slide_type": "fragment"
    }
   },
   "source": [
    "* Primary research: \n",
    "  * Plasticity in the normal brain\n",
    "  * Functional analysis of the prefrontal, hippocampal, parietal, and basal ganglia systems\n",
    "  * Traumatic brain injury"
   ]
  },
  {
   "cell_type": "markdown",
   "metadata": {
    "slideshow": {
     "slide_type": "subslide"
    }
   },
   "source": [
    "## Reorganisation of Elementary Functions (REF) model\n",
    "\n",
    "* Rehabilitation based on compensation"
   ]
  },
  {
   "cell_type": "markdown",
   "metadata": {
    "slideshow": {
     "slide_type": "fragment"
    }
   },
   "source": [
    "* Defines three layers of abstractions (simplified)\n",
    "  * Surface phenomena\n",
    "  * Algorithmic strategies\n",
    "  * Elementary functions"
   ]
  },
  {
   "cell_type": "markdown",
   "metadata": {
    "slideshow": {
     "slide_type": "subslide"
    }
   },
   "source": [
    "## Current research\n",
    "\n",
    "* Effects of hippocampal lesions on allocentric navigation\n",
    "* Functional effects of brain injuries\n",
    "* Neural correlates of consciousness (NCC)"
   ]
  },
  {
   "cell_type": "markdown",
   "metadata": {
    "slideshow": {
     "slide_type": "subslide"
    }
   },
   "source": [
    "## Method of inquiry"
   ]
  },
  {
   "cell_type": "markdown",
   "metadata": {
    "slideshow": {
     "slide_type": "subslide"
    }
   },
   "source": [
    "\n",
    "<br/><br/><br/>\n",
    "\n",
    "\n",
    "\n",
    "<img src=\"krechevsky.jpg\" style=\"width: 700px; margin-top: -100px; transform: rotate(-90deg)\"/>"
   ]
  },
  {
   "cell_type": "markdown",
   "metadata": {
    "slideshow": {
     "slide_type": "subslide"
    }
   },
   "source": [
    "## Experimental setup\n",
    "\n",
    "1. Train genetically identical rats\n",
    "2. Introduce lesion\n",
    "3. Test hypothesis"
   ]
  },
  {
   "cell_type": "markdown",
   "metadata": {
    "slideshow": {
     "slide_type": "fragment"
    }
   },
   "source": [
    "* Iteration time of more than one month\n",
    "* Experiments are hard to reproduce with a low validity"
   ]
  },
  {
   "cell_type": "markdown",
   "metadata": {
    "slideshow": {
     "slide_type": "subslide"
    }
   },
   "source": [
    "## Master's thesis\n",
    "\n",
    "* Why not recreate parts of the behaviour in neuromorphic systems?"
   ]
  },
  {
   "cell_type": "markdown",
   "metadata": {
    "slideshow": {
     "slide_type": "fragment"
    }
   },
   "source": [
    "* Collaboration between Department of Computer Science and UCN\n",
    "\n",
    "* Hypothesis: *Elementary Functions can be modelled using spiking neural networks*"
   ]
  },
  {
   "cell_type": "markdown",
   "metadata": {
    "slideshow": {
     "slide_type": "slide"
    }
   },
   "source": [
    "# What does that have to do with you...?"
   ]
  },
  {
   "cell_type": "markdown",
   "metadata": {
    "slideshow": {
     "slide_type": "fragment"
    }
   },
   "source": [
    "* Target audience: cognitive neuropsychologists"
   ]
  },
  {
   "cell_type": "markdown",
   "metadata": {
    "slideshow": {
     "slide_type": "fragment"
    }
   },
   "source": [
    "* High-level and vague problem domain"
   ]
  },
  {
   "cell_type": "markdown",
   "metadata": {
    "slideshow": {
     "slide_type": "subslide"
    }
   },
   "source": [
    "## Introducing Volr\n",
    "\n",
    "* A declarative DSL for building learning systems\n",
    "  * Reproducible experiments with high validity\n",
    "  * Helping neuroscientists to build experiments"
   ]
  },
  {
   "cell_type": "markdown",
   "metadata": {
    "slideshow": {
     "slide_type": "fragment"
    }
   },
   "source": [
    "* Initially: examine feasibility"
   ]
  },
  {
   "cell_type": "markdown",
   "metadata": {
    "slideshow": {
     "slide_type": "fragment"
    }
   },
   "source": [
    "* Conclusion\n",
    "  * A working prototype for 2 backends (almost 3) after ~1 week\n",
    "  * Inclusion of non-expert users\n",
    "  * Productivity gains, not just for beginners"
   ]
  },
  {
   "cell_type": "markdown",
   "metadata": {
    "slideshow": {
     "slide_type": "subslide"
    }
   },
   "source": [
    "### Example 1: Graphing a single-population network"
   ]
  },
  {
   "cell_type": "code",
   "execution_count": 3,
   "metadata": {
    "slideshow": {
     "slide_type": "subslide"
    }
   },
   "outputs": [
    {
     "name": "stdout",
     "output_type": "stream",
     "text": [
      "Spikes stored in variable `spikes`\n"
     ]
    },
    {
     "data": {
      "image/png": "[encoded data removed]",
      "text/plain": [
       "<Figure size 1152x360 with 1 Axes>"
      ]
     },
     "metadata": {},
     "output_type": "display_data"
    }
   ],
   "source": [
    "%%volr ssh hel ~/executor.sh \n",
    "\n",
    "stimulus s\n",
    "  input: [20, 21]\n",
    "        \n",
    "function f from s excitatory\n",
    "  neurons: 10\n",
    "    \n",
    "response from f excitatory\n",
    "\n",
    "target nest\n",
    "   runtime: 50"
   ]
  },
  {
   "cell_type": "code",
   "execution_count": 18,
   "metadata": {
    "slideshow": {
     "slide_type": "subslide"
    }
   },
   "outputs": [
    {
     "name": "stdout",
     "output_type": "stream",
     "text": [
      "Spikes stored in variable `spikes`\n"
     ]
    },
    {
     "data": {
      "image/png": "[encoded data removed]",
      "text/plain": [
       "<Figure size 1152x576 with 1 Axes>"
      ]
     },
     "metadata": {},
     "output_type": "display_data"
    }
   ],
   "source": [
    "%%volr ssh hel ~/executor.sh wafer\n",
    "\n",
    "stimulus s\n",
    "  input: [20, 21]\n",
    "        \n",
    "function f from s excitatory\n",
    "  neurons: 10\n",
    "    \n",
    "response from f excitatory\n",
    "\n",
    "target brainscales\n",
    "  wafer: 37\n",
    "  hicann: 297\n",
    "  runtime: 50"
   ]
  },
  {
   "cell_type": "markdown",
   "metadata": {
    "slideshow": {
     "slide_type": "subslide"
    }
   },
   "source": [
    "### Example 2: Python integration"
   ]
  },
  {
   "cell_type": "code",
   "execution_count": 4,
   "metadata": {
    "slideshow": {
     "slide_type": "fragment"
    }
   },
   "outputs": [
    {
     "data": {
      "text/plain": [
       "array([22.39135043, 23.11702577, 23.19889334, 24.68001389, 24.68183817,\n",
       "       25.12134284, 26.12572315, 35.85689358])"
      ]
     },
     "execution_count": 4,
     "metadata": {},
     "output_type": "execute_result"
    }
   ],
   "source": [
    "stim_spikes = np.random.normal(loc=25, scale=6, size=8)\n",
    "stim_spikes.sort()\n",
    "stim_spikes"
   ]
  },
  {
   "cell_type": "code",
   "execution_count": 1,
   "metadata": {},
   "outputs": [],
   "source": [
    "import pandas"
   ]
  },
  {
   "cell_type": "code",
   "execution_count": 2,
   "metadata": {},
   "outputs": [],
   "source": [
    "import numpy as np"
   ]
  },
  {
   "cell_type": "code",
   "execution_count": 15,
   "metadata": {},
   "outputs": [
    {
     "data": {
      "text/plain": [
       "<matplotlib.axes._subplots.AxesSubplot at 0x7f604a9c8550>"
      ]
     },
     "execution_count": 15,
     "metadata": {},
     "output_type": "execute_result"
    },
    {
     "data": {
      "image/png": "[encoded data removed]",
      "text/plain": [
       "<Figure size 432x288 with 1 Axes>"
      ]
     },
     "metadata": {},
     "output_type": "display_data"
    }
   ],
   "source": [
    "d = [[1, 1], [2, 4], [3, 9], [4, 16], [5, 25]]\n",
    "pandas.DataFrame(d).plot(kind='line')"
   ]
  },
  {
   "cell_type": "code",
   "execution_count": 6,
   "metadata": {
    "scrolled": true,
    "slideshow": {
     "slide_type": "subslide"
    }
   },
   "outputs": [
    {
     "name": "stdout",
     "output_type": "stream",
     "text": [
      "Spikes stored in variable `spikes`\n"
     ]
    },
    {
     "data": {
      "image/png": "[encoded data removed]",
      "text/plain": [
       "<Figure size 1152x576 with 1 Axes>"
      ]
     },
     "metadata": {},
     "output_type": "display_data"
    }
   ],
   "source": [
    "%%volr ssh hel ~/executor.sh\n",
    "\n",
    "stimulus s\n",
    "  input: $stim_spikes\n",
    "\n",
    "function f1 from s excitatory\n",
    "  weight: 1\n",
    "  neurons: 8\n",
    "    \n",
    "response from f1 excitatory\n",
    "\n",
    "target nest\n",
    "  runtime: 100"
   ]
  },
  {
   "cell_type": "markdown",
   "metadata": {
    "slideshow": {
     "slide_type": "subslide"
    }
   },
   "source": [
    "## Example 3: Excitatory and inhibitory"
   ]
  },
  {
   "cell_type": "code",
   "execution_count": 9,
   "metadata": {
    "slideshow": {
     "slide_type": "subslide"
    }
   },
   "outputs": [
    {
     "name": "stdout",
     "output_type": "stream",
     "text": [
      "Spikes stored in variable `spikes`\n"
     ]
    },
    {
     "data": {
      "image/png": "[encoded data removed]",
      "text/plain": [
       "<Figure size 1152x360 with 3 Axes>"
      ]
     },
     "metadata": {},
     "output_type": "display_data"
    }
   ],
   "source": [
    "%%volr ssh hel ~/executor.sh\n",
    "\n",
    "stimulus s\n",
    "  input: $stim_spikes\n",
    "\n",
    "function f1 from s excitatory\n",
    "  neurons: 8\n",
    "  \n",
    "function inhibitor \n",
    "  from f1 excitatory\n",
    "    weight: 0.5\n",
    "  neurons: 8\n",
    "  \n",
    "function f2 \n",
    "  from f1 excitatory\n",
    "  from inhibitor inhibitory\n",
    "  neurons: 8\n",
    "\n",
    "response from f2 excitatory\n",
    "\n",
    "target nest\n",
    "  runtime: 100"
   ]
  },
  {
   "cell_type": "markdown",
   "metadata": {
    "slideshow": {
     "slide_type": "slide"
    }
   },
   "source": [
    "## Future work and collaboration\n",
    "\n",
    "* Add learning rules\n",
    "* Futher integration (DLS, Spikey)\n",
    "  * Detailed experiments and higher-level concepts\n",
    "* Future experiments\n",
    " * Learning to learn: REF (Mogensen), LSNN (Bellec and Maas), etc.\n",
    " * DLS plasticity\n",
    "* Reproducible regression testing"
   ]
  },
  {
   "cell_type": "markdown",
   "metadata": {
    "slideshow": {
     "slide_type": "slide"
    }
   },
   "source": [
    "## Summary\n",
    "\n",
    "* REF model\n",
    "* Volr as a DSL for fast and reproducible neuromorphic experiments\n",
    "* Works needs to be done, but results are promising\n"
   ]
  },
  {
   "cell_type": "markdown",
   "metadata": {
    "slideshow": {
     "slide_type": "fragment"
    }
   },
   "source": [
    "Thank you to Mr. Schmitt and Mr. Pehle for the invitation\n",
    "\n",
    "* Jens Egholm Pedersen: ``jensegholm@protonmail.com``"
   ]
  }
 ],
 "metadata": {
  "celltoolbar": "Slideshow",
  "kernelspec": {
   "display_name": "Python 3",
   "language": "python",
   "name": "python3"
  },
  "language_info": {
   "codemirror_mode": {
    "name": "ipython",
    "version": 3
   },
   "file_extension": ".py",
   "mimetype": "text/x-python",
   "name": "python",
   "nbconvert_exporter": "python",
   "pygments_lexer": "ipython3",
   "version": "3.6.3"
  }
 },
 "nbformat": 4,
 "nbformat_minor": 2
}
